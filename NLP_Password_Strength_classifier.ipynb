{
  "cells": [
    {
      "cell_type": "code",
      "execution_count": 1,
      "metadata": {
        "id": "SDpzNtF8LiUw"
      },
      "outputs": [],
      "source": [
        "import pandas as pd\n",
        "import numpy as np\n",
        "import seaborn as sns\n",
        "import warnings\n",
        "warnings.filterwarnings('ignore')"
      ]
    },
    {
      "cell_type": "markdown",
      "metadata": {
        "id": "sXSdnVO5LiU1"
      },
      "source": [
        "#### Reading dataset"
      ]
    },
    {
      "cell_type": "code",
      "execution_count": 2,
      "metadata": {
        "id": "ySlSjZiOLiU4",
        "outputId": "dab928f9-fcbb-4c3c-abf3-ef25160ba4b4",
        "colab": {
          "base_uri": "https://localhost:8080/",
          "height": 206
        }
      },
      "outputs": [
        {
          "output_type": "execute_result",
          "data": {
            "text/plain": [
              "      password  strength\n",
              "0     kzde5577         1\n",
              "1     kino3434         1\n",
              "2    visi7k1yr         1\n",
              "3     megzy123         1\n",
              "4  lamborghin1         1"
            ],
            "text/html": [
              "\n",
              "\n",
              "  <div id=\"df-9195fa2c-110d-4cd3-a27a-cf1948cf6e3e\">\n",
              "    <div class=\"colab-df-container\">\n",
              "      <div>\n",
              "<style scoped>\n",
              "    .dataframe tbody tr th:only-of-type {\n",
              "        vertical-align: middle;\n",
              "    }\n",
              "\n",
              "    .dataframe tbody tr th {\n",
              "        vertical-align: top;\n",
              "    }\n",
              "\n",
              "    .dataframe thead th {\n",
              "        text-align: right;\n",
              "    }\n",
              "</style>\n",
              "<table border=\"1\" class=\"dataframe\">\n",
              "  <thead>\n",
              "    <tr style=\"text-align: right;\">\n",
              "      <th></th>\n",
              "      <th>password</th>\n",
              "      <th>strength</th>\n",
              "    </tr>\n",
              "  </thead>\n",
              "  <tbody>\n",
              "    <tr>\n",
              "      <th>0</th>\n",
              "      <td>kzde5577</td>\n",
              "      <td>1</td>\n",
              "    </tr>\n",
              "    <tr>\n",
              "      <th>1</th>\n",
              "      <td>kino3434</td>\n",
              "      <td>1</td>\n",
              "    </tr>\n",
              "    <tr>\n",
              "      <th>2</th>\n",
              "      <td>visi7k1yr</td>\n",
              "      <td>1</td>\n",
              "    </tr>\n",
              "    <tr>\n",
              "      <th>3</th>\n",
              "      <td>megzy123</td>\n",
              "      <td>1</td>\n",
              "    </tr>\n",
              "    <tr>\n",
              "      <th>4</th>\n",
              "      <td>lamborghin1</td>\n",
              "      <td>1</td>\n",
              "    </tr>\n",
              "  </tbody>\n",
              "</table>\n",
              "</div>\n",
              "      <button class=\"colab-df-convert\" onclick=\"convertToInteractive('df-9195fa2c-110d-4cd3-a27a-cf1948cf6e3e')\"\n",
              "              title=\"Convert this dataframe to an interactive table.\"\n",
              "              style=\"display:none;\">\n",
              "\n",
              "  <svg xmlns=\"http://www.w3.org/2000/svg\" height=\"24px\"viewBox=\"0 0 24 24\"\n",
              "       width=\"24px\">\n",
              "    <path d=\"M0 0h24v24H0V0z\" fill=\"none\"/>\n",
              "    <path d=\"M18.56 5.44l.94 2.06.94-2.06 2.06-.94-2.06-.94-.94-2.06-.94 2.06-2.06.94zm-11 1L8.5 8.5l.94-2.06 2.06-.94-2.06-.94L8.5 2.5l-.94 2.06-2.06.94zm10 10l.94 2.06.94-2.06 2.06-.94-2.06-.94-.94-2.06-.94 2.06-2.06.94z\"/><path d=\"M17.41 7.96l-1.37-1.37c-.4-.4-.92-.59-1.43-.59-.52 0-1.04.2-1.43.59L10.3 9.45l-7.72 7.72c-.78.78-.78 2.05 0 2.83L4 21.41c.39.39.9.59 1.41.59.51 0 1.02-.2 1.41-.59l7.78-7.78 2.81-2.81c.8-.78.8-2.07 0-2.86zM5.41 20L4 18.59l7.72-7.72 1.47 1.35L5.41 20z\"/>\n",
              "  </svg>\n",
              "      </button>\n",
              "\n",
              "\n",
              "\n",
              "    <div id=\"df-1a92c946-11f3-44f9-914c-951cfddcb79a\">\n",
              "      <button class=\"colab-df-quickchart\" onclick=\"quickchart('df-1a92c946-11f3-44f9-914c-951cfddcb79a')\"\n",
              "              title=\"Suggest charts.\"\n",
              "              style=\"display:none;\">\n",
              "\n",
              "<svg xmlns=\"http://www.w3.org/2000/svg\" height=\"24px\"viewBox=\"0 0 24 24\"\n",
              "     width=\"24px\">\n",
              "    <g>\n",
              "        <path d=\"M19 3H5c-1.1 0-2 .9-2 2v14c0 1.1.9 2 2 2h14c1.1 0 2-.9 2-2V5c0-1.1-.9-2-2-2zM9 17H7v-7h2v7zm4 0h-2V7h2v10zm4 0h-2v-4h2v4z\"/>\n",
              "    </g>\n",
              "</svg>\n",
              "      </button>\n",
              "    </div>\n",
              "\n",
              "<style>\n",
              "  .colab-df-quickchart {\n",
              "    background-color: #E8F0FE;\n",
              "    border: none;\n",
              "    border-radius: 50%;\n",
              "    cursor: pointer;\n",
              "    display: none;\n",
              "    fill: #1967D2;\n",
              "    height: 32px;\n",
              "    padding: 0 0 0 0;\n",
              "    width: 32px;\n",
              "  }\n",
              "\n",
              "  .colab-df-quickchart:hover {\n",
              "    background-color: #E2EBFA;\n",
              "    box-shadow: 0px 1px 2px rgba(60, 64, 67, 0.3), 0px 1px 3px 1px rgba(60, 64, 67, 0.15);\n",
              "    fill: #174EA6;\n",
              "  }\n",
              "\n",
              "  [theme=dark] .colab-df-quickchart {\n",
              "    background-color: #3B4455;\n",
              "    fill: #D2E3FC;\n",
              "  }\n",
              "\n",
              "  [theme=dark] .colab-df-quickchart:hover {\n",
              "    background-color: #434B5C;\n",
              "    box-shadow: 0px 1px 3px 1px rgba(0, 0, 0, 0.15);\n",
              "    filter: drop-shadow(0px 1px 2px rgba(0, 0, 0, 0.3));\n",
              "    fill: #FFFFFF;\n",
              "  }\n",
              "</style>\n",
              "\n",
              "    <script>\n",
              "      async function quickchart(key) {\n",
              "        const containerElement = document.querySelector('#' + key);\n",
              "        const charts = await google.colab.kernel.invokeFunction(\n",
              "            'suggestCharts', [key], {});\n",
              "      }\n",
              "    </script>\n",
              "\n",
              "      <script>\n",
              "\n",
              "function displayQuickchartButton(domScope) {\n",
              "  let quickchartButtonEl =\n",
              "    domScope.querySelector('#df-1a92c946-11f3-44f9-914c-951cfddcb79a button.colab-df-quickchart');\n",
              "  quickchartButtonEl.style.display =\n",
              "    google.colab.kernel.accessAllowed ? 'block' : 'none';\n",
              "}\n",
              "\n",
              "        displayQuickchartButton(document);\n",
              "      </script>\n",
              "      <style>\n",
              "    .colab-df-container {\n",
              "      display:flex;\n",
              "      flex-wrap:wrap;\n",
              "      gap: 12px;\n",
              "    }\n",
              "\n",
              "    .colab-df-convert {\n",
              "      background-color: #E8F0FE;\n",
              "      border: none;\n",
              "      border-radius: 50%;\n",
              "      cursor: pointer;\n",
              "      display: none;\n",
              "      fill: #1967D2;\n",
              "      height: 32px;\n",
              "      padding: 0 0 0 0;\n",
              "      width: 32px;\n",
              "    }\n",
              "\n",
              "    .colab-df-convert:hover {\n",
              "      background-color: #E2EBFA;\n",
              "      box-shadow: 0px 1px 2px rgba(60, 64, 67, 0.3), 0px 1px 3px 1px rgba(60, 64, 67, 0.15);\n",
              "      fill: #174EA6;\n",
              "    }\n",
              "\n",
              "    [theme=dark] .colab-df-convert {\n",
              "      background-color: #3B4455;\n",
              "      fill: #D2E3FC;\n",
              "    }\n",
              "\n",
              "    [theme=dark] .colab-df-convert:hover {\n",
              "      background-color: #434B5C;\n",
              "      box-shadow: 0px 1px 3px 1px rgba(0, 0, 0, 0.15);\n",
              "      filter: drop-shadow(0px 1px 2px rgba(0, 0, 0, 0.3));\n",
              "      fill: #FFFFFF;\n",
              "    }\n",
              "  </style>\n",
              "\n",
              "      <script>\n",
              "        const buttonEl =\n",
              "          document.querySelector('#df-9195fa2c-110d-4cd3-a27a-cf1948cf6e3e button.colab-df-convert');\n",
              "        buttonEl.style.display =\n",
              "          google.colab.kernel.accessAllowed ? 'block' : 'none';\n",
              "\n",
              "        async function convertToInteractive(key) {\n",
              "          const element = document.querySelector('#df-9195fa2c-110d-4cd3-a27a-cf1948cf6e3e');\n",
              "          const dataTable =\n",
              "            await google.colab.kernel.invokeFunction('convertToInteractive',\n",
              "                                                     [key], {});\n",
              "          if (!dataTable) return;\n",
              "\n",
              "          const docLinkHtml = 'Like what you see? Visit the ' +\n",
              "            '<a target=\"_blank\" href=https://colab.research.google.com/notebooks/data_table.ipynb>data table notebook</a>'\n",
              "            + ' to learn more about interactive tables.';\n",
              "          element.innerHTML = '';\n",
              "          dataTable['output_type'] = 'display_data';\n",
              "          await google.colab.output.renderOutput(dataTable, element);\n",
              "          const docLink = document.createElement('div');\n",
              "          docLink.innerHTML = docLinkHtml;\n",
              "          element.appendChild(docLink);\n",
              "        }\n",
              "      </script>\n",
              "    </div>\n",
              "  </div>\n"
            ]
          },
          "metadata": {},
          "execution_count": 2
        }
      ],
      "source": [
        "data=pd.read_csv(\"/content/Password_Strength_Checker Dataset.csv\")\n",
        "data.head()"
      ]
    },
    {
      "cell_type": "code",
      "execution_count": 3,
      "metadata": {
        "id": "tczR67G9LiU6",
        "outputId": "4fd43a6b-d055-4be5-d0ac-7a4d98afc2b9",
        "colab": {
          "base_uri": "https://localhost:8080/"
        }
      },
      "outputs": [
        {
          "output_type": "execute_result",
          "data": {
            "text/plain": [
              "array([1, 2, 0])"
            ]
          },
          "metadata": {},
          "execution_count": 3
        }
      ],
      "source": [
        "data['strength'].astype('int64').unique()"
      ]
    },
    {
      "cell_type": "code",
      "execution_count": 3,
      "metadata": {
        "id": "JeTRCsf_LiU7"
      },
      "outputs": [],
      "source": []
    },
    {
      "cell_type": "markdown",
      "metadata": {
        "id": "Ghz-CJHfLiU8"
      },
      "source": [
        "#### code to check all the missing values in my dataset"
      ]
    },
    {
      "cell_type": "code",
      "execution_count": 4,
      "metadata": {
        "id": "adu-zQ6JLiU8",
        "outputId": "6d34d7b0-d949-4461-ba2c-4e783c283e82",
        "colab": {
          "base_uri": "https://localhost:8080/"
        }
      },
      "outputs": [
        {
          "output_type": "execute_result",
          "data": {
            "text/plain": [
              "password    1\n",
              "strength    0\n",
              "dtype: int64"
            ]
          },
          "metadata": {},
          "execution_count": 4
        }
      ],
      "source": [
        "data.isna().sum()"
      ]
    },
    {
      "cell_type": "code",
      "execution_count": 5,
      "metadata": {
        "id": "oacAf9EnLiU9",
        "outputId": "4d4973e7-ecd1-475e-ac57-4f91bd049650",
        "colab": {
          "base_uri": "https://localhost:8080/",
          "height": 81
        }
      },
      "outputs": [
        {
          "output_type": "execute_result",
          "data": {
            "text/plain": [
              "       password  strength\n",
              "367579      NaN         0"
            ],
            "text/html": [
              "\n",
              "\n",
              "  <div id=\"df-48afa954-0203-4754-bb42-cd08e37da1a3\">\n",
              "    <div class=\"colab-df-container\">\n",
              "      <div>\n",
              "<style scoped>\n",
              "    .dataframe tbody tr th:only-of-type {\n",
              "        vertical-align: middle;\n",
              "    }\n",
              "\n",
              "    .dataframe tbody tr th {\n",
              "        vertical-align: top;\n",
              "    }\n",
              "\n",
              "    .dataframe thead th {\n",
              "        text-align: right;\n",
              "    }\n",
              "</style>\n",
              "<table border=\"1\" class=\"dataframe\">\n",
              "  <thead>\n",
              "    <tr style=\"text-align: right;\">\n",
              "      <th></th>\n",
              "      <th>password</th>\n",
              "      <th>strength</th>\n",
              "    </tr>\n",
              "  </thead>\n",
              "  <tbody>\n",
              "    <tr>\n",
              "      <th>367579</th>\n",
              "      <td>NaN</td>\n",
              "      <td>0</td>\n",
              "    </tr>\n",
              "  </tbody>\n",
              "</table>\n",
              "</div>\n",
              "      <button class=\"colab-df-convert\" onclick=\"convertToInteractive('df-48afa954-0203-4754-bb42-cd08e37da1a3')\"\n",
              "              title=\"Convert this dataframe to an interactive table.\"\n",
              "              style=\"display:none;\">\n",
              "\n",
              "  <svg xmlns=\"http://www.w3.org/2000/svg\" height=\"24px\"viewBox=\"0 0 24 24\"\n",
              "       width=\"24px\">\n",
              "    <path d=\"M0 0h24v24H0V0z\" fill=\"none\"/>\n",
              "    <path d=\"M18.56 5.44l.94 2.06.94-2.06 2.06-.94-2.06-.94-.94-2.06-.94 2.06-2.06.94zm-11 1L8.5 8.5l.94-2.06 2.06-.94-2.06-.94L8.5 2.5l-.94 2.06-2.06.94zm10 10l.94 2.06.94-2.06 2.06-.94-2.06-.94-.94-2.06-.94 2.06-2.06.94z\"/><path d=\"M17.41 7.96l-1.37-1.37c-.4-.4-.92-.59-1.43-.59-.52 0-1.04.2-1.43.59L10.3 9.45l-7.72 7.72c-.78.78-.78 2.05 0 2.83L4 21.41c.39.39.9.59 1.41.59.51 0 1.02-.2 1.41-.59l7.78-7.78 2.81-2.81c.8-.78.8-2.07 0-2.86zM5.41 20L4 18.59l7.72-7.72 1.47 1.35L5.41 20z\"/>\n",
              "  </svg>\n",
              "      </button>\n",
              "\n",
              "\n",
              "\n",
              "    <div id=\"df-1aa7af45-29a3-420a-845b-07c572be78e3\">\n",
              "      <button class=\"colab-df-quickchart\" onclick=\"quickchart('df-1aa7af45-29a3-420a-845b-07c572be78e3')\"\n",
              "              title=\"Suggest charts.\"\n",
              "              style=\"display:none;\">\n",
              "\n",
              "<svg xmlns=\"http://www.w3.org/2000/svg\" height=\"24px\"viewBox=\"0 0 24 24\"\n",
              "     width=\"24px\">\n",
              "    <g>\n",
              "        <path d=\"M19 3H5c-1.1 0-2 .9-2 2v14c0 1.1.9 2 2 2h14c1.1 0 2-.9 2-2V5c0-1.1-.9-2-2-2zM9 17H7v-7h2v7zm4 0h-2V7h2v10zm4 0h-2v-4h2v4z\"/>\n",
              "    </g>\n",
              "</svg>\n",
              "      </button>\n",
              "    </div>\n",
              "\n",
              "<style>\n",
              "  .colab-df-quickchart {\n",
              "    background-color: #E8F0FE;\n",
              "    border: none;\n",
              "    border-radius: 50%;\n",
              "    cursor: pointer;\n",
              "    display: none;\n",
              "    fill: #1967D2;\n",
              "    height: 32px;\n",
              "    padding: 0 0 0 0;\n",
              "    width: 32px;\n",
              "  }\n",
              "\n",
              "  .colab-df-quickchart:hover {\n",
              "    background-color: #E2EBFA;\n",
              "    box-shadow: 0px 1px 2px rgba(60, 64, 67, 0.3), 0px 1px 3px 1px rgba(60, 64, 67, 0.15);\n",
              "    fill: #174EA6;\n",
              "  }\n",
              "\n",
              "  [theme=dark] .colab-df-quickchart {\n",
              "    background-color: #3B4455;\n",
              "    fill: #D2E3FC;\n",
              "  }\n",
              "\n",
              "  [theme=dark] .colab-df-quickchart:hover {\n",
              "    background-color: #434B5C;\n",
              "    box-shadow: 0px 1px 3px 1px rgba(0, 0, 0, 0.15);\n",
              "    filter: drop-shadow(0px 1px 2px rgba(0, 0, 0, 0.3));\n",
              "    fill: #FFFFFF;\n",
              "  }\n",
              "</style>\n",
              "\n",
              "    <script>\n",
              "      async function quickchart(key) {\n",
              "        const containerElement = document.querySelector('#' + key);\n",
              "        const charts = await google.colab.kernel.invokeFunction(\n",
              "            'suggestCharts', [key], {});\n",
              "      }\n",
              "    </script>\n",
              "\n",
              "      <script>\n",
              "\n",
              "function displayQuickchartButton(domScope) {\n",
              "  let quickchartButtonEl =\n",
              "    domScope.querySelector('#df-1aa7af45-29a3-420a-845b-07c572be78e3 button.colab-df-quickchart');\n",
              "  quickchartButtonEl.style.display =\n",
              "    google.colab.kernel.accessAllowed ? 'block' : 'none';\n",
              "}\n",
              "\n",
              "        displayQuickchartButton(document);\n",
              "      </script>\n",
              "      <style>\n",
              "    .colab-df-container {\n",
              "      display:flex;\n",
              "      flex-wrap:wrap;\n",
              "      gap: 12px;\n",
              "    }\n",
              "\n",
              "    .colab-df-convert {\n",
              "      background-color: #E8F0FE;\n",
              "      border: none;\n",
              "      border-radius: 50%;\n",
              "      cursor: pointer;\n",
              "      display: none;\n",
              "      fill: #1967D2;\n",
              "      height: 32px;\n",
              "      padding: 0 0 0 0;\n",
              "      width: 32px;\n",
              "    }\n",
              "\n",
              "    .colab-df-convert:hover {\n",
              "      background-color: #E2EBFA;\n",
              "      box-shadow: 0px 1px 2px rgba(60, 64, 67, 0.3), 0px 1px 3px 1px rgba(60, 64, 67, 0.15);\n",
              "      fill: #174EA6;\n",
              "    }\n",
              "\n",
              "    [theme=dark] .colab-df-convert {\n",
              "      background-color: #3B4455;\n",
              "      fill: #D2E3FC;\n",
              "    }\n",
              "\n",
              "    [theme=dark] .colab-df-convert:hover {\n",
              "      background-color: #434B5C;\n",
              "      box-shadow: 0px 1px 3px 1px rgba(0, 0, 0, 0.15);\n",
              "      filter: drop-shadow(0px 1px 2px rgba(0, 0, 0, 0.3));\n",
              "      fill: #FFFFFF;\n",
              "    }\n",
              "  </style>\n",
              "\n",
              "      <script>\n",
              "        const buttonEl =\n",
              "          document.querySelector('#df-48afa954-0203-4754-bb42-cd08e37da1a3 button.colab-df-convert');\n",
              "        buttonEl.style.display =\n",
              "          google.colab.kernel.accessAllowed ? 'block' : 'none';\n",
              "\n",
              "        async function convertToInteractive(key) {\n",
              "          const element = document.querySelector('#df-48afa954-0203-4754-bb42-cd08e37da1a3');\n",
              "          const dataTable =\n",
              "            await google.colab.kernel.invokeFunction('convertToInteractive',\n",
              "                                                     [key], {});\n",
              "          if (!dataTable) return;\n",
              "\n",
              "          const docLinkHtml = 'Like what you see? Visit the ' +\n",
              "            '<a target=\"_blank\" href=https://colab.research.google.com/notebooks/data_table.ipynb>data table notebook</a>'\n",
              "            + ' to learn more about interactive tables.';\n",
              "          element.innerHTML = '';\n",
              "          dataTable['output_type'] = 'display_data';\n",
              "          await google.colab.output.renderOutput(dataTable, element);\n",
              "          const docLink = document.createElement('div');\n",
              "          docLink.innerHTML = docLinkHtml;\n",
              "          element.appendChild(docLink);\n",
              "        }\n",
              "      </script>\n",
              "    </div>\n",
              "  </div>\n"
            ]
          },
          "metadata": {},
          "execution_count": 5
        }
      ],
      "source": [
        "data[data['password'].isnull()]"
      ]
    },
    {
      "cell_type": "code",
      "execution_count": 6,
      "metadata": {
        "id": "DqwEQbwRLiU-"
      },
      "outputs": [],
      "source": [
        "data.dropna(inplace=True)"
      ]
    },
    {
      "cell_type": "code",
      "execution_count": 7,
      "metadata": {
        "id": "X1FC9Bs-LiU_",
        "outputId": "691aee78-899c-4229-b3ca-2e9d93619f3f",
        "colab": {
          "base_uri": "https://localhost:8080/"
        }
      },
      "outputs": [
        {
          "output_type": "execute_result",
          "data": {
            "text/plain": [
              "password    0\n",
              "strength    0\n",
              "dtype: int64"
            ]
          },
          "metadata": {},
          "execution_count": 7
        }
      ],
      "source": [
        "data.isna().sum()"
      ]
    },
    {
      "cell_type": "code",
      "execution_count": 8,
      "metadata": {
        "id": "4VogzdUmLiVA",
        "outputId": "89f8a490-0d75-4aa4-f533-ba83960b1900",
        "colab": {
          "base_uri": "https://localhost:8080/",
          "height": 466
        }
      },
      "outputs": [
        {
          "output_type": "execute_result",
          "data": {
            "text/plain": [
              "<Axes: xlabel='strength', ylabel='count'>"
            ]
          },
          "metadata": {},
          "execution_count": 8
        },
        {
          "output_type": "display_data",
          "data": {
            "text/plain": [
              "<Figure size 640x480 with 1 Axes>"
            ],
            "image/png": "[encoded data removed]"
          },
          "metadata": {}
        }
      ],
      "source": [
        "sns.countplot(x = 'strength',data=data)"
      ]
    },
    {
      "cell_type": "code",
      "execution_count": 9,
      "metadata": {
        "id": "KID179EALiVB"
      },
      "outputs": [],
      "source": [
        "password_tuple=np.array(data)"
      ]
    },
    {
      "cell_type": "code",
      "execution_count": 10,
      "metadata": {
        "id": "zrzKmM1JLiVB",
        "outputId": "36a4dcc4-ff2e-4840-9c95-a070774b8baa",
        "colab": {
          "base_uri": "https://localhost:8080/"
        }
      },
      "outputs": [
        {
          "output_type": "execute_result",
          "data": {
            "text/plain": [
              "array([['kzde5577', 1],\n",
              "       ['kino3434', 1],\n",
              "       ['visi7k1yr', 1],\n",
              "       ...,\n",
              "       ['184520socram', 1],\n",
              "       ['marken22a', 1],\n",
              "       ['fxx4pw4g', 1]], dtype=object)"
            ]
          },
          "metadata": {},
          "execution_count": 10
        }
      ],
      "source": [
        "password_tuple"
      ]
    },
    {
      "cell_type": "code",
      "execution_count": 10,
      "metadata": {
        "id": "8wCbFf4ILiVC"
      },
      "outputs": [],
      "source": []
    },
    {
      "cell_type": "markdown",
      "metadata": {
        "id": "Bm8yIsdULiVC"
      },
      "source": [
        "#### shuffling randomly for robustness"
      ]
    },
    {
      "cell_type": "code",
      "execution_count": 11,
      "metadata": {
        "id": "xMb_F9TjLiVC"
      },
      "outputs": [],
      "source": [
        "import random\n",
        "random.shuffle(password_tuple)"
      ]
    },
    {
      "cell_type": "code",
      "execution_count": 12,
      "metadata": {
        "id": "l81LgfjSLiVC"
      },
      "outputs": [],
      "source": [
        "x=[labels[0] for labels in password_tuple]\n",
        "y=[labels[1] for labels in password_tuple]\n"
      ]
    },
    {
      "cell_type": "code",
      "execution_count": 13,
      "metadata": {
        "id": "mSzuE5FtLiVD",
        "outputId": "52bf9d85-3c95-4cc4-b691-7086e00d009f",
        "colab": {
          "base_uri": "https://localhost:8080/"
        }
      },
      "outputs": [
        {
          "output_type": "execute_result",
          "data": {
            "text/plain": [
              "['kzde5577',\n",
              " 'kzde5577',\n",
              " 'kzde5577',\n",
              " 'megzy123',\n",
              " 'kzde5577',\n",
              " 'lamborghin1',\n",
              " 'visi7k1yr',\n",
              " 'kzde5577',\n",
              " 'kzde5577',\n",
              " 'kzde5577',\n",
              " 'lamborghin1',\n",
              " '612035180tok',\n",
              " 'v1118714',\n",
              " 'u6c8vhow',\n",
              " 'visi7k1yr',\n",
              " 'WUt9IZzE0OQ7PkNE',\n",
              " 'kzde5577',\n",
              " 'kzde5577',\n",
              " 'jerusalem393',\n",
              " 'u6c8vhow',\n",
              " 'visi7k1yr',\n",
              " 'universe2908',\n",
              " 'universe2908',\n",
              " 'AVYq1lDE4MgAZfNt',\n",
              " 'WUt9IZzE0OQ7PkNE',\n",
              " 'kzde5577',\n",
              " '612035180tok',\n",
              " 'jytifok873',\n",
              " 'czuodhj972',\n",
              " 'WUt9IZzE0OQ7PkNE',\n",
              " '52558000aaa',\n",
              " 'elyass15@ajilent-ci',\n",
              " 'asv5o9yu',\n",
              " '612035180tok',\n",
              " 'cigicigi123',\n",
              " 'u6c8vhow',\n",
              " 'czuodhj972',\n",
              " 'trabajonet9',\n",
              " 'asv5o9yu',\n",
              " 'fahad123',\n",
              " 'schalke04',\n",
              " 'pHyqueDIyNQ8vmhb',\n",
              " 'megzy123',\n",
              " 'kino3434',\n",
              " 'memjan123',\n",
              " 'prisonbreak1',\n",
              " 'prisonbreak1',\n",
              " 'lsdlsd1',\n",
              " 'hpqkoxsn5',\n",
              " 'lsdlsd1',\n",
              " 'hpqkoxsn5',\n",
              " 'fk9qi21m',\n",
              " 'u6c8vhow',\n",
              " 'yqugu927',\n",
              " 'lsdlsd1',\n",
              " 'trabajonet9',\n",
              " 'sbl571017',\n",
              " 'kzde5577',\n",
              " 'lamborghin1',\n",
              " 'AVYq1lDE4MgAZfNt',\n",
              " 'kino3434',\n",
              " 'gaymaids1',\n",
              " 'go7kew7a2po',\n",
              " 'klara-tershina3H',\n",
              " 'go7kew7a2po',\n",
              " 'kzde5577',\n",
              " 'yqugu927',\n",
              " 'universe2908',\n",
              " 'cigicigi123',\n",
              " 'elyass15@ajilent-ci',\n",
              " 'gdfn76',\n",
              " 'khmer100.03278&?><Mnb',\n",
              " 'faranumar91',\n",
              " 'kswa2mrv',\n",
              " 'bozoxik602',\n",
              " 'yqugu927',\n",
              " 'olmaz.',\n",
              " 'intel1',\n",
              " 'kunyukbabi69',\n",
              " 'juliel009',\n",
              " 'ok>bdk',\n",
              " '283671gus',\n",
              " 'exitos2009',\n",
              " 'asgaliu11',\n",
              " 'juliel009',\n",
              " 'obstacle25',\n",
              " 'hodygid757',\n",
              " 'k9b8cz6aj2',\n",
              " 'cesarmaio1',\n",
              " 'il0vey0u',\n",
              " 'memjan123',\n",
              " 'juliana19',\n",
              " 'kunyukbabi69',\n",
              " '123477889a',\n",
              " 'TyWM72UNEex8Q8Y',\n",
              " 'kjkjkj1',\n",
              " 'kunyukbabi69',\n",
              " 'pHyqueDIyNQ8vmhb',\n",
              " 'megzy123',\n",
              " 'k1k2k3k4k5k6',\n",
              " 'rntprns7',\n",
              " '12345yolanda',\n",
              " 'fk9qi21m',\n",
              " 'jalingo1',\n",
              " 'gkrqjs6',\n",
              " '929865yt',\n",
              " 'TyWM72UNEex8Q8Y',\n",
              " 'memjan123',\n",
              " 'gkrqjs6',\n",
              " 'jalingo1',\n",
              " '6tequila6',\n",
              " 'v1118714',\n",
              " 'xyws951753',\n",
              " 'Iamthelegend1!',\n",
              " 'yqugu927',\n",
              " 'b4NbTxDEyNgG141J',\n",
              " 'kzde5577',\n",
              " 'RqsuUsDYxNgr8T40',\n",
              " '12345yolanda',\n",
              " 'obstacle25',\n",
              " 'sknq7m0',\n",
              " 'visi7k1yr',\n",
              " '10Erjrlmebup0n',\n",
              " 'asgaliu11',\n",
              " 'exitos2009',\n",
              " 'aquhih220',\n",
              " 'g067057895',\n",
              " 'matiofox08',\n",
              " 'fnmsdha476',\n",
              " 'jalal123456',\n",
              " 'icap12',\n",
              " 'portales1',\n",
              " 'ldteugao6',\n",
              " 'visi7k1yr',\n",
              " '929865yt',\n",
              " 'juliana19',\n",
              " 'woon12',\n",
              " 'tamanagung6',\n",
              " '838188linh',\n",
              " 'a2531106',\n",
              " 'sanki1',\n",
              " '3y6iwef2g6',\n",
              " 'rogyh820',\n",
              " 'nicolas05',\n",
              " 'prisonbreak1',\n",
              " 'schalke04',\n",
              " 'j09000',\n",
              " 'kzde5577',\n",
              " 'moken7',\n",
              " 'rntprns7',\n",
              " 'kunyukbabi69',\n",
              " 'woon12',\n",
              " 'moken7',\n",
              " 'icap12',\n",
              " 'asv5o9yu',\n",
              " 'jUV4dSDQwNwPpA36',\n",
              " '6975038lp',\n",
              " 'lsdlsd1',\n",
              " 'lamborghin1',\n",
              " '52558000aaa',\n",
              " 'g3rappa',\n",
              " 'TyWM72UNEex8Q8Y',\n",
              " '3vszncp4',\n",
              " 'prisonbreak1',\n",
              " 'farrukhcse12',\n",
              " 'megzy123',\n",
              " 'poseidon2011',\n",
              " 'bozoxik602',\n",
              " 'as326159',\n",
              " '123net123',\n",
              " 'tin030201',\n",
              " 'elonex24',\n",
              " 'matiofox08',\n",
              " '2akira2',\n",
              " '746xitEGiqObog',\n",
              " '2akira2',\n",
              " '6975038lp',\n",
              " '1972vishara',\n",
              " 'k9b8cz6aj2',\n",
              " 'lsdlsd1',\n",
              " 'nicolas05',\n",
              " 'puegwajy416',\n",
              " '20Dgw7TQ0OQVdly7',\n",
              " 'sbl571017',\n",
              " 'g3rappa',\n",
              " 'zoobike04',\n",
              " 'sknq7m0',\n",
              " 'patri1973',\n",
              " 'bgrvl80',\n",
              " 'alimagik1',\n",
              " 'jytifok873',\n",
              " 'alimagik1',\n",
              " '5gzj5uf',\n",
              " 'gandhi8513',\n",
              " 'mickael12',\n",
              " 'jytifok873',\n",
              " 'cigicigi123',\n",
              " 'jalal123456',\n",
              " '147963asd',\n",
              " 'idofo673',\n",
              " '1972vishara',\n",
              " 'd04m11',\n",
              " 'q0pv0fk',\n",
              " 'ebacuro434',\n",
              " 'mickael12',\n",
              " 'snolyuj04',\n",
              " 'marita1',\n",
              " 'ass359',\n",
              " 'barra23',\n",
              " 'robot425',\n",
              " 'jalingo1',\n",
              " 'nello11',\n",
              " 'metopelo1623',\n",
              " '123net123',\n",
              " 'nello11',\n",
              " 'taurofive16',\n",
              " 'kinga22',\n",
              " 'vgnfs495vp',\n",
              " 'cockw0mble',\n",
              " 'sarahi1628',\n",
              " 'tomas7896',\n",
              " '123net123',\n",
              " 'afs34214',\n",
              " 'w9209640',\n",
              " 'potatobus150',\n",
              " 'kjkjkj1',\n",
              " 'icap12',\n",
              " 'kzde5577',\n",
              " '5gzj5uf',\n",
              " 'visi7k1yr',\n",
              " 'sanki1',\n",
              " 'ubojig109',\n",
              " '123477889a',\n",
              " '4osxw4r',\n",
              " 'elonex24',\n",
              " 'znbl5tj1',\n",
              " 'x8512514',\n",
              " 'k9b8cz6aj2',\n",
              " '123maxbala',\n",
              " 'wxS2ztDk4OATjBfI',\n",
              " 'g3rappa',\n",
              " 'mazdarx7',\n",
              " 'rogyh820',\n",
              " 'yk530mg8',\n",
              " 'barboza221294',\n",
              " 'ass359',\n",
              " 'Iamthelegend1!',\n",
              " 'pHyqueDIyNQ8vmhb',\n",
              " 'g067057895',\n",
              " 'kino3434',\n",
              " '2021848709',\n",
              " 'mustang337',\n",
              " 'gaymaids1',\n",
              " 'lsdlsd1',\n",
              " 'edcmki90',\n",
              " 'kayal123',\n",
              " 'yqugu927',\n",
              " 'g067057895',\n",
              " '2fakjv',\n",
              " 'kswa2mrv',\n",
              " '5gzj5uf',\n",
              " 'pablo321159',\n",
              " 'kino3434',\n",
              " 'as326159',\n",
              " 'TyWM72UNEex8Q8Y',\n",
              " 'farrukhcse12',\n",
              " 'fnmsdha476',\n",
              " 'barboza221294',\n",
              " 'w9209640',\n",
              " 'djngeyut2707',\n",
              " 'roxana1993',\n",
              " 'qn5xpg3k00',\n",
              " 'il0vey0u',\n",
              " '64959rodro',\n",
              " 'yut0838828185',\n",
              " '2021848709',\n",
              " 'yk530mg8',\n",
              " 'X9WVojjE4MgVAIiR',\n",
              " 'aquhih220',\n",
              " 'juliel009',\n",
              " 'warriors08',\n",
              " 'vgnfs495vp',\n",
              " 'a2531106',\n",
              " 'samael666',\n",
              " '929865yt',\n",
              " 'c3h8bkzr',\n",
              " 'g3rappa',\n",
              " '6tequila6',\n",
              " 'k1k2k3k4k5k6',\n",
              " 'gkrqjs6',\n",
              " 'gkrqjs6',\n",
              " '2021848709',\n",
              " 'Iamthelegend1!',\n",
              " 'kry1z9',\n",
              " 'koabcswzt3',\n",
              " 'mickael12',\n",
              " 'jonothepoop1',\n",
              " 'taurofive16',\n",
              " '0112358mayin0',\n",
              " 'mickael12',\n",
              " 't8IkFRDIxMAFV2JW',\n",
              " 'kunyukbabi69',\n",
              " 'nK0yKXTU0NQHZE2e',\n",
              " 'a03242241431a',\n",
              " 'ga98SIzk0NwhiZaE',\n",
              " 'hqh2eYjQxOQPYIsA',\n",
              " 'b4NbTxDEyNgG141J',\n",
              " '20Dgw7TQ0OQVdly7',\n",
              " 'kayal123',\n",
              " 'fnmsdha476',\n",
              " 'yuri110995',\n",
              " '1katertje',\n",
              " 'krumbul123',\n",
              " 'pikey231',\n",
              " 'xW8-3w7-MFB-CKH',\n",
              " 'intel1',\n",
              " 'omakiva153',\n",
              " 'v1118714',\n",
              " 'vehat387',\n",
              " 'finisterra1',\n",
              " 'atigi839',\n",
              " 'ycqtgdso3',\n",
              " 'TyWM72UNEex8Q8Y',\n",
              " 'meopvywk628',\n",
              " 'sanki1',\n",
              " 'wibi182d',\n",
              " 'aquhih220',\n",
              " 'g3rappa',\n",
              " 'p2share',\n",
              " 'rntprns7',\n",
              " 'ppnyadam09',\n",
              " 'kjkjkj1',\n",
              " 'jerusalem393',\n",
              " '1972vishara',\n",
              " 'puegwajy416',\n",
              " 'enziitoo1234',\n",
              " 'ajyrew547',\n",
              " '6yy6yy',\n",
              " 'b4NbTxDEyNgG141J',\n",
              " 'saule123',\n",
              " 'jerusalem393',\n",
              " 'warriors08',\n",
              " 'TyWM72UNEex8Q8Y',\n",
              " 'e667794c1d',\n",
              " 'z7zbgIDkzMQeHUd9',\n",
              " 'z7zbgIDkzMQeHUd9',\n",
              " 'schalke04',\n",
              " 'vgnfs495vp',\n",
              " 'njmania114',\n",
              " 'j09000',\n",
              " 'elonex24',\n",
              " 'faranumar91',\n",
              " 'v1118714',\n",
              " 'bencike7',\n",
              " 'clave08',\n",
              " 'khurram_',\n",
              " '6yy6yy',\n",
              " 'xiau5ff',\n",
              " 'a0972986650',\n",
              " 'yu4cmn',\n",
              " 'ass359',\n",
              " 'kino3434',\n",
              " 'ppnyadam09',\n",
              " 'virush1n1',\n",
              " 'RPFUOUDQwMwVW0AS',\n",
              " 'polo2014',\n",
              " 'yk530mg8',\n",
              " 'woon12',\n",
              " 'icap12',\n",
              " 'klara-tershina3H',\n",
              " 'q0pv0fk',\n",
              " 'a03242241431a',\n",
              " 'poseidon2011',\n",
              " 'barra23',\n",
              " 'kikeq102',\n",
              " 'sanjaime1',\n",
              " 'kino3434',\n",
              " 'znbl5tj1',\n",
              " 'xp;ysmybst',\n",
              " 'terrassa6',\n",
              " 'khurram_',\n",
              " 'icap12',\n",
              " 'TyWM72UNEex8Q8Y',\n",
              " 's9830950044',\n",
              " 'openup12',\n",
              " 'as326159',\n",
              " 'bgrvl80',\n",
              " '6tequila6',\n",
              " 'seller1',\n",
              " 'kikeq102',\n",
              " 'tamanagung6',\n",
              " 'shotiko18',\n",
              " 'u6c8vhow',\n",
              " 'cdann123',\n",
              " 'patri1973',\n",
              " '7942vikas',\n",
              " 'cigicigi123',\n",
              " 'kswa2mrv',\n",
              " 'a03242241431a',\n",
              " 'vuqADUSatAJO800',\n",
              " 'yzxwvgbdu503',\n",
              " '64959rodro',\n",
              " 'bellsuki1',\n",
              " 'sydney213',\n",
              " 'omakiva153',\n",
              " 'tahseen75',\n",
              " 'desmondkok21',\n",
              " '2yz4ewwg',\n",
              " 'elyass15@ajilent-ci',\n",
              " 'matiofox08',\n",
              " 'frhnsvelhfr1',\n",
              " '0169395484a',\n",
              " 'matiofox08',\n",
              " 'gaymaids1',\n",
              " 'gtlek',\n",
              " 'zjl0kx03',\n",
              " 'juliel009',\n",
              " 'demon10',\n",
              " 'kyodai666',\n",
              " 'oioo9og',\n",
              " 'oatcake87',\n",
              " 'd4xQ3LjUwMQFVCYQ',\n",
              " 'olmaz.',\n",
              " 'ycqtgdso3',\n",
              " 't8IkFRDIxMAFV2JW',\n",
              " '1qa2ws3ed4rf',\n",
              " 'mario489800',\n",
              " 'www32223222',\n",
              " 'JEQuloqOFUd102',\n",
              " 'nokia6020',\n",
              " 'mayur@8netinfotech',\n",
              " 'cristiano7',\n",
              " 'peluchin4',\n",
              " 'taiga0088',\n",
              " 'aquhih220',\n",
              " 'Iamthelegend1!',\n",
              " 'ryjypes139',\n",
              " 'kzde5577',\n",
              " 'shotiko18',\n",
              " 'han19660120',\n",
              " 'bellsuki1',\n",
              " 'lamborghin1',\n",
              " 'ixehawojEPe418',\n",
              " 'teemteem97',\n",
              " 'jsm159167',\n",
              " 'vgnfs495vp',\n",
              " 'barboza221294',\n",
              " 'bencike7',\n",
              " 'purpledog1992',\n",
              " '64whbrb351',\n",
              " 'owote852',\n",
              " 'q0pv0fk',\n",
              " '19821010a',\n",
              " 'wisal1234',\n",
              " 'elabadmin1386',\n",
              " 'tukaxo486',\n",
              " 'jsm159167',\n",
              " 'koabcswzt3',\n",
              " 'caramelo9',\n",
              " 'desmondkok21',\n",
              " 'kenyu001',\n",
              " 'www32223222',\n",
              " 'clave08',\n",
              " 'yuri110995',\n",
              " '101010hadis',\n",
              " 'polo2014',\n",
              " '2010server',\n",
              " '612035180tok',\n",
              " 'hasan18',\n",
              " 'AVYq1lDE4MgAZfNt',\n",
              " 'pazzini24',\n",
              " 'bang6k',\n",
              " 'lamborghin1',\n",
              " 'acetita478',\n",
              " 'owote852',\n",
              " 'tomas7896',\n",
              " '147963asd',\n",
              " 'wxS2ztDk4OATjBfI',\n",
              " 'vietnga92',\n",
              " 'sebax2013',\n",
              " 'pugceya468',\n",
              " 'as8594505',\n",
              " 'kitty555',\n",
              " 'purpledog1992',\n",
              " '0VKWoODkwOAc0pZK',\n",
              " '4lgYVfzk1MwuzHcn',\n",
              " 'zidadoh258',\n",
              " 'alimagik1',\n",
              " 'iwaguh884',\n",
              " 'elonex24',\n",
              " 'z7zbgIDkzMQeHUd9',\n",
              " '612035180tok',\n",
              " 'gvczfel801',\n",
              " 'fr8OClDY1MAdEhHa',\n",
              " 'grazi0201',\n",
              " 'damyvo114',\n",
              " '3vszncp4',\n",
              " '5gzj5uf',\n",
              " 'gerardway1',\n",
              " 'tukaxo486',\n",
              " 'kitty555',\n",
              " 'pato221182',\n",
              " 'hqh2eYjQxOQPYIsA',\n",
              " 'hodygid757',\n",
              " 'pilatyj280',\n",
              " 'jsm159167',\n",
              " 'meriton23',\n",
              " 'xp;ysmybst',\n",
              " '0VKWoODkwOAc0pZK',\n",
              " 'zoobike04',\n",
              " 'farrukhcse12',\n",
              " 'moken7',\n",
              " 'faranumar91',\n",
              " 'ypodahe201',\n",
              " 'hola45',\n",
              " 'taurofive16',\n",
              " 'yogesh143',\n",
              " 'kry1z9',\n",
              " 'holamundo1',\n",
              " 'yu86640132',\n",
              " 'd6VyrkFV6oblxNs5N8cW',\n",
              " 'lzhzad1989',\n",
              " 'sw10d014',\n",
              " 'mussuh4',\n",
              " 'farrukhcse12',\n",
              " 'pilatyj280',\n",
              " 'sbaUsoTA1OAzuevI',\n",
              " 'www32223222',\n",
              " 'oekojWyH120063',\n",
              " 'kuntz80',\n",
              " 'a110804032',\n",
              " 'z3ro1sm',\n",
              " 'ns2b0727',\n",
              " 'jalal123456',\n",
              " 'w9209640',\n",
              " 'cockw0mble',\n",
              " 'teemteem97',\n",
              " 'yhwbzci130',\n",
              " 'p3rf3ct0',\n",
              " 'JEQuloqOFUd102',\n",
              " 'IjUcOtYqAwel725',\n",
              " 'paladinas1',\n",
              " 'wxS2ztDk4OATjBfI',\n",
              " 'fnmsdha476',\n",
              " 'lollies1989',\n",
              " 'khaled12',\n",
              " 'zoobike04',\n",
              " 'control9',\n",
              " 'koabcswzt3',\n",
              " 'n501iomf',\n",
              " 'Staterkom20081993',\n",
              " 'meopvywk628',\n",
              " '26522876p',\n",
              " 'faranumar91',\n",
              " 'oioo9og',\n",
              " 'j2yj2yj2y',\n",
              " 'klara-tershina3H',\n",
              " 'studenko123',\n",
              " 'butisugo39',\n",
              " 'vehat387',\n",
              " 'alimagik1',\n",
              " 'sebax2013',\n",
              " 'mark11',\n",
              " 'sydney213',\n",
              " 'change201',\n",
              " '612035180tok',\n",
              " '159951josh',\n",
              " 'faisal213',\n",
              " 'universe2908',\n",
              " 'yu4cmn',\n",
              " 'demon10',\n",
              " '2010server',\n",
              " 'zjl0kx03',\n",
              " 'kdl9cl53',\n",
              " 'v1118714',\n",
              " 'icap12',\n",
              " 'kitty555',\n",
              " 'virush1n1',\n",
              " 'u03kz6ez',\n",
              " '612035180tok',\n",
              " '238wofutUtIGyf',\n",
              " 'kevin24',\n",
              " 'aosmaxd0',\n",
              " 'clumsy0619',\n",
              " 'meopvywk628',\n",
              " 'laedbchsx687',\n",
              " 'beijing168',\n",
              " 'faqih82',\n",
              " '9950twofour0',\n",
              " 'bc5e4vca',\n",
              " '20010509wang',\n",
              " '20010509wang',\n",
              " 'gill02',\n",
              " 'saule123',\n",
              " '123456ts',\n",
              " 'muoaqxwc21',\n",
              " 'exitos2009',\n",
              " 'papasito1991',\n",
              " 'PEPITO00',\n",
              " 'kukimuki123',\n",
              " '1qa2ws3ed4rf',\n",
              " '1qa2ws3ed4rf',\n",
              " 'sbl571017',\n",
              " 'junaid5',\n",
              " '1katertje',\n",
              " 'sandra0547',\n",
              " 'mohantra1',\n",
              " 'a0972986650',\n",
              " 'v10rica',\n",
              " 'mega0109',\n",
              " 'DTUQG5jU5MwmR1L9',\n",
              " 'ypodahe201',\n",
              " 'gtlek',\n",
              " 'ajyrew547',\n",
              " 'kenneth610',\n",
              " '2fakjv',\n",
              " 'gaymaids1',\n",
              " 'visi7k1yr',\n",
              " 'aio42fv',\n",
              " '1234159hero',\n",
              " 'lollies1989',\n",
              " '4TXr5KDYxNQVTo4g',\n",
              " 'webhost08',\n",
              " 'spl51190595',\n",
              " 'diegote10',\n",
              " 'fk9qi21m',\n",
              " 'as8594505',\n",
              " 'mazdarx7',\n",
              " 'bjolgvhs69',\n",
              " 'ebacuro434',\n",
              " 'ihana906',\n",
              " 'cigicigi123',\n",
              " 'vuqADUSatAJO800',\n",
              " 'seller1',\n",
              " '1991vikash',\n",
              " 'sbaUsoTA1OAzuevI',\n",
              " '123net123',\n",
              " 'schalke04',\n",
              " 'c1brb3lt',\n",
              " 'hasan18',\n",
              " 'kry1z9',\n",
              " '20010509wang',\n",
              " 'sknq7m0',\n",
              " 'bugatti01',\n",
              " 'control9',\n",
              " 'xlxlxl777',\n",
              " 'killer5',\n",
              " '1234159hero',\n",
              " 'webstudio8',\n",
              " 'princ3sa',\n",
              " '8g8x2su3',\n",
              " 'exusop649',\n",
              " 'xyws951753',\n",
              " 'gutergut599',\n",
              " 'grazi0201',\n",
              " 'balamuc123',\n",
              " '3CgRg8DA1NQY1iEj',\n",
              " 'planes123',\n",
              " 'kahcyxvj24',\n",
              " 'RRaa--72783530081984',\n",
              " 'enziitoo1234',\n",
              " 'ppnyadam09',\n",
              " 'yhwbzci130',\n",
              " 'megzy123',\n",
              " 'DRAGON25',\n",
              " '1katertje',\n",
              " 'yk530mg8',\n",
              " 'mmm23mm',\n",
              " 'han19660120',\n",
              " 'snolyuj04',\n",
              " 'bafiqkxwu0',\n",
              " 'pr0f1s10',\n",
              " '5874813o',\n",
              " 'wuzsadav933',\n",
              " 'trabajonet9',\n",
              " 'nK0yKXTU0NQHZE2e',\n",
              " 'ykfums1',\n",
              " 'samael666',\n",
              " 'p@sslng2diword',\n",
              " 'a0972986650',\n",
              " 'czuodhj972',\n",
              " 'jalingo1',\n",
              " '1972vishara',\n",
              " 'x57669',\n",
              " 'uou2dae',\n",
              " 'samael666',\n",
              " 'asgaliu11',\n",
              " '4lgYVfzk1MwuzHcn',\n",
              " '1597535youssi',\n",
              " 'rakag279',\n",
              " 'oekojWyH120063',\n",
              " 'numero2',\n",
              " 'robot425',\n",
              " 'j09000',\n",
              " 'as8594505',\n",
              " 'paulino123',\n",
              " 'mike09',\n",
              " 'xW8-3w7-MFB-CKH',\n",
              " 'patty94',\n",
              " 'carla99',\n",
              " '20Dgw7TQ0OQVdly7',\n",
              " 'cyborged69',\n",
              " 'yuri110995',\n",
              " 'krumbul123',\n",
              " 'XqMB7vDMzOQocAFV',\n",
              " 'ajyrew547',\n",
              " 'itengf12',\n",
              " 'woogee04',\n",
              " 'asv5o9yu',\n",
              " '4lgYVfzk1MwuzHcn',\n",
              " 'jannia5',\n",
              " 'grazi0201',\n",
              " 'lugerp08',\n",
              " 't8IkFRDIxMAFV2JW',\n",
              " '929865yt',\n",
              " 'd04m11',\n",
              " 'v10rica',\n",
              " 'khaled12',\n",
              " 'in595462',\n",
              " 'pato221182',\n",
              " '030005qw',\n",
              " 'uqilyni846',\n",
              " 'ok>bdk',\n",
              " 'qopybuxi2',\n",
              " 'padhila30',\n",
              " 'alimagik1',\n",
              " 'matiz4533',\n",
              " 'krishna2',\n",
              " 'patata91',\n",
              " 'designer1206',\n",
              " 'desmondkok21',\n",
              " 'khurram_',\n",
              " 'lrhxmevb620',\n",
              " 'llahetihw1',\n",
              " 'llahetihw1',\n",
              " 'pikey231',\n",
              " 'owary200',\n",
              " 'sw10d014',\n",
              " 'kah4544875',\n",
              " 'pHyqueDIyNQ8vmhb',\n",
              " 'p@sslng2diword',\n",
              " 'nebunule2',\n",
              " 'woon12',\n",
              " 'kjkjkj1',\n",
              " 'legna13',\n",
              " '20Dgw7TQ0OQVdly7',\n",
              " 'hosna1368',\n",
              " 'VMjz4eTkxNAbOyUU',\n",
              " 'numero2',\n",
              " 'clyioqzgw42',\n",
              " 'webhostv1t1n',\n",
              " 'hodygid757',\n",
              " 'artom111478',\n",
              " 'demon10',\n",
              " '7942vikas',\n",
              " '4TXr5KDYxNQVTo4g',\n",
              " 'groster152',\n",
              " 'kP82iqDMxNgBMxBP',\n",
              " '1ug2UKzQyMQBsleD',\n",
              " 'RqsuUsDYxNgr8T40',\n",
              " 'as8594505',\n",
              " 'ezekiel720',\n",
              " 'elonex24',\n",
              " 'osimeytju12',\n",
              " 'tim80327',\n",
              " 'yuri110995',\n",
              " '01161590m',\n",
              " 'hide68',\n",
              " 'nebunule2',\n",
              " 'laedbchsx687',\n",
              " 'atigi839',\n",
              " 'seng987321',\n",
              " 'gvczfel801',\n",
              " '631ihOZogELoVap',\n",
              " '1ug2UKzQyMQBsleD',\n",
              " 'sun4shine76',\n",
              " 'gkrqjs6',\n",
              " 'elperro1',\n",
              " 'pacific52',\n",
              " 'ebogel225',\n",
              " 'farrukhcse12',\n",
              " 'IjUcOtYqAwel725',\n",
              " 'eth36498',\n",
              " 'mike09',\n",
              " 'LypOJUfuLYrO477',\n",
              " 'iubat09',\n",
              " '3f5xd41l0ik7',\n",
              " '1597535youssi',\n",
              " 'Jovan13lovekenthjusvan4ever',\n",
              " 'ihana906',\n",
              " 'bjolgvhs69',\n",
              " '01161590m',\n",
              " 'sha122511',\n",
              " 'aziz098765',\n",
              " 'igejasy712',\n",
              " 'gill02',\n",
              " 'kyxvufl37',\n",
              " 'seeyouagain1',\n",
              " 'eVl19ADIxNAmU09N',\n",
              " 'stalucia66',\n",
              " 'josef0867',\n",
              " 'gohan2602',\n",
              " 'kyodai666',\n",
              " 'gerardway1',\n",
              " 'calcifer32',\n",
              " 'kVczcljg4OA25Aeb',\n",
              " 'akucinta12',\n",
              " 'caramelo9',\n",
              " 'ok>bdk',\n",
              " 'ajyrew547',\n",
              " 'jekkmoeder>',\n",
              " '000martin',\n",
              " 'pap0spep0s',\n",
              " 'woon12',\n",
              " 'hodygid757',\n",
              " 'qopybuxi2',\n",
              " 'isqizkg1',\n",
              " 'wasanun13',\n",
              " 'cesarmaio1',\n",
              " 'omakiva153',\n",
              " 'w1e2s3l4',\n",
              " 'sw10d014',\n",
              " 'juliana19',\n",
              " 'hard7ware',\n",
              " 'uqilyni846',\n",
              " 'as326159',\n",
              " '1ug2UKzQyMQBsleD',\n",
              " 'darza6534',\n",
              " 'paladinas1',\n",
              " 'barboza221294',\n",
              " '600eretz',\n",
              " 'luiskeko31',\n",
              " 'jesmond26',\n",
              " 'sd6x9s3s',\n",
              " 'v1118714',\n",
              " 'marita1',\n",
              " '2d0d7qfz',\n",
              " '20010509wang',\n",
              " 'dK4dWOjM1OAPeisw',\n",
              " 'VMjz4eTkxNAbOyUU',\n",
              " 'j09000',\n",
              " 'webhost08',\n",
              " '0lELoCDI1NAy8u7D',\n",
              " 'YanH2kzgxMw1AsXA',\n",
              " 'gkrqjs6',\n",
              " 'frhnsvelhfr1',\n",
              " 'gopal8420',\n",
              " 'killer5',\n",
              " 'ziKYRyqewaxE717',\n",
              " 'gkhan01',\n",
              " '6tequila6',\n",
              " '3CgRg8DA1NQY1iEj',\n",
              " 'wuzyci421',\n",
              " 'eeae14li',\n",
              " '6975038lp',\n",
              " 'mehmet4524572',\n",
              " 'nhfdff2512',\n",
              " '4TXr5KDYxNQVTo4g',\n",
              " 'bgrvl80',\n",
              " 's0xwym7h',\n",
              " '3y6iwef2g6',\n",
              " 'shooting1965j',\n",
              " 'zoblin80',\n",
              " 'hasan18',\n",
              " 'woon12',\n",
              " 'diarie1',\n",
              " 'faisal213',\n",
              " 'cesarmaio1',\n",
              " 'pmcm110118008',\n",
              " 'xlxlxl777',\n",
              " 'klara-tershina3H',\n",
              " 'n501iomf',\n",
              " 'ppnyadam09',\n",
              " '241189dumai',\n",
              " 'webhost08',\n",
              " 'joy112495',\n",
              " 'acetita478',\n",
              " 'laedbchsx687',\n",
              " 'klara-tershina3H',\n",
              " 'password0880',\n",
              " 'gkrqjs6',\n",
              " 'trust123',\n",
              " 'DTUQG5jU5MwmR1L9',\n",
              " 'j2yj2yj2y',\n",
              " 'studenko123',\n",
              " 'xx18121982',\n",
              " 'asakapa22',\n",
              " 'olyucskw52',\n",
              " 'kikeq102',\n",
              " '17.10.08',\n",
              " 'ts34a3fodh3i',\n",
              " 'robot425',\n",
              " 'BsKbJHTY4NgesCOs',\n",
              " 'mmm23mm',\n",
              " 'ixehawojEPe418',\n",
              " 'teemteem97',\n",
              " 'elyass15@ajilent-ci',\n",
              " 'teste10',\n",
              " 'xie635891',\n",
              " 'abizar08',\n",
              " 'plumilla1',\n",
              " 'hqh2eYjQxOQPYIsA',\n",
              " 'BsKbJHTY4NgesCOs',\n",
              " 'byeypb2',\n",
              " 'zeeshanbhai1',\n",
              " 'caramelo9',\n",
              " 'webstudio8',\n",
              " 'DTUQG5jU5MwmR1L9',\n",
              " 'DRAGON25',\n",
              " 'ashaii12',\n",
              " 'Truelove19902610',\n",
              " 'synyxyr723',\n",
              " 'azerty32',\n",
              " 'frhnsvelhfr1',\n",
              " 'hodaq103',\n",
              " '3CgRg8DA1NQY1iEj',\n",
              " 'josue12',\n",
              " 'xie635891',\n",
              " 'seng987321',\n",
              " 'yogesh143',\n",
              " 'xp;ysmybst',\n",
              " 'ebuchkakat1',\n",
              " 'seng987321',\n",
              " 'goony01',\n",
              " 'samemene@sm',\n",
              " 'jekkmoeder>',\n",
              " 'sergius1964',\n",
              " '9950twofour0',\n",
              " 'yhwbzci130',\n",
              " 'angelinajol52',\n",
              " '12345yolanda',\n",
              " 'hosna1368',\n",
              " 'natalia12',\n",
              " '2010server',\n",
              " '847XagYxUHUXOW',\n",
              " 'pilatyj280',\n",
              " 'failz0r',\n",
              " 'kashyn777',\n",
              " 'lovelory1',\n",
              " 'aquhih220',\n",
              " 'cc71797805',\n",
              " 'gerylyx688',\n",
              " 'jbtcnd6',\n",
              " 'igoj0w740luj',\n",
              " 'ixohupo747',\n",
              " 'mosad999',\n",
              " 'czuodhj972',\n",
              " 'g067057895',\n",
              " 'clave08',\n",
              " 'Staterkom20081993',\n",
              " 'pass0port',\n",
              " 'evivad588',\n",
              " 'olumide1',\n",
              " 'BsKbJHTY4NgesCOs',\n",
              " 'maulana79',\n",
              " 'kXzWOozU2MQ1Jv1h',\n",
              " 'krishna2',\n",
              " 'znbl5tj1',\n",
              " 'holamundo1',\n",
              " 'pilatyj280',\n",
              " 'zcsntdmhe098',\n",
              " 'zidadoh258',\n",
              " '4fqa52vecr',\n",
              " '12345687vini',\n",
              " 'irivur594',\n",
              " 'poseidon2011',\n",
              " 'clave2013',\n",
              " 'goony01',\n",
              " 'oatcake87',\n",
              " 'cigicigi123',\n",
              " 'artom111478',\n",
              " 'skoda06',\n",
              " 'mega0109',\n",
              " 'eVl19ADIxNAmU09N',\n",
              " 'krishna2',\n",
              " 'we34dar88',\n",
              " 'acgyj188',\n",
              " 'uxyloga692',\n",
              " '631ihOZogELoVap',\n",
              " 'owote852',\n",
              " 'ebacuro434',\n",
              " 'idofo673',\n",
              " 'UF1Z2WjE5Mg26R1K',\n",
              " 'rntprns7',\n",
              " 'juliana00',\n",
              " 'rsuvxz08b',\n",
              " '12345yolanda',\n",
              " '4seclick8',\n",
              " 'r0cker',\n",
              " 'yami12',\n",
              " 'komorek11',\n",
              " 'xW8-3w7-MFB-CKH',\n",
              " '69556236gu',\n",
              " 'hayhayq2',\n",
              " 'd04m11',\n",
              " 'wxS2ztDk4OATjBfI',\n",
              " 'j03l4ytr1',\n",
              " 'uxyloga692',\n",
              " 'L2i2ZwTg1MQajeBm',\n",
              " 'clave2013',\n",
              " ...]"
            ]
          },
          "metadata": {},
          "execution_count": 13
        }
      ],
      "source": [
        "x"
      ]
    },
    {
      "cell_type": "code",
      "execution_count": 13,
      "metadata": {
        "id": "UqEIAtyNLiVD"
      },
      "outputs": [],
      "source": []
    },
    {
      "cell_type": "markdown",
      "metadata": {
        "id": "2v3L0K_uLiVD"
      },
      "source": [
        "#### create a custom function to split input into characters of list"
      ]
    },
    {
      "cell_type": "code",
      "execution_count": 14,
      "metadata": {
        "id": "I7Yf-6nXLiVD"
      },
      "outputs": [],
      "source": [
        "def word_divide_char(inputs):\n",
        "    character=[]\n",
        "    for i in inputs:\n",
        "        character.append(i)\n",
        "    return character"
      ]
    },
    {
      "cell_type": "code",
      "execution_count": 15,
      "metadata": {
        "id": "_zmtkVxFLiVE",
        "outputId": "faecf47f-d9e7-46c0-f0bd-77af07a2fe74",
        "colab": {
          "base_uri": "https://localhost:8080/"
        }
      },
      "outputs": [
        {
          "output_type": "execute_result",
          "data": {
            "text/plain": [
              "['k', 'z', 'd', 'e', '5', '5', '7', '7']"
            ]
          },
          "metadata": {},
          "execution_count": 15
        }
      ],
      "source": [
        "word_divide_char('kzde5577')"
      ]
    },
    {
      "cell_type": "code",
      "execution_count": 15,
      "metadata": {
        "id": "hGcrKqgQLiVE"
      },
      "outputs": [],
      "source": []
    },
    {
      "cell_type": "markdown",
      "metadata": {
        "id": "uZ-Qg96hLiVE"
      },
      "source": [
        "#### import TF-IDF vectorizer to convert String data into numerical data"
      ]
    },
    {
      "cell_type": "code",
      "execution_count": 16,
      "metadata": {
        "id": "gQ56Z092LiVE"
      },
      "outputs": [],
      "source": [
        "from sklearn.feature_extraction.text import TfidfVectorizer"
      ]
    },
    {
      "cell_type": "code",
      "execution_count": 17,
      "metadata": {
        "id": "VE2MPLKnLiVF"
      },
      "outputs": [],
      "source": [
        "vectorizer=TfidfVectorizer(tokenizer=word_divide_char)"
      ]
    },
    {
      "cell_type": "markdown",
      "metadata": {
        "id": "r5qM-YMELiVF"
      },
      "source": [
        "#### apply TF-IDF vectorizer on data"
      ]
    },
    {
      "cell_type": "code",
      "execution_count": 18,
      "metadata": {
        "id": "evzTvFv-LiVF"
      },
      "outputs": [],
      "source": [
        "X=vectorizer.fit_transform(x)"
      ]
    },
    {
      "cell_type": "code",
      "execution_count": 19,
      "metadata": {
        "id": "8UUeBMSsLiVF",
        "outputId": "ac628b00-f54c-4be9-e177-f2ee0d6c12cc",
        "colab": {
          "base_uri": "https://localhost:8080/"
        }
      },
      "outputs": [
        {
          "output_type": "execute_result",
          "data": {
            "text/plain": [
              "(669639, 129)"
            ]
          },
          "metadata": {},
          "execution_count": 19
        }
      ],
      "source": [
        "X.shape"
      ]
    },
    {
      "cell_type": "code",
      "execution_count": 20,
      "metadata": {
        "id": "Rkuj863BLiVG",
        "outputId": "a8fe90b2-28d6-4817-a7c5-65f335da1c4d",
        "colab": {
          "base_uri": "https://localhost:8080/"
        }
      },
      "outputs": [
        {
          "output_type": "execute_result",
          "data": {
            "text/plain": [
              "array(['\\x02', '\\x05', '\\x08', '\\x0f', '\\x10', '\\x11', '\\x12', '\\x16',\n",
              "       '\\x17', '\\x18', '\\x19', '\\x1b', '\\x1c', '\\x1e', ' ', '!', '\"', '#',\n",
              "       '$', '%', '&', '(', ')', '*', '+', ',', '-', '.', '/', '0', '1',\n",
              "       '2', '3', '4', '5', '6', '7', '8', '9', ';', '<', '=', '>', '?',\n",
              "       '@', '[', '\\\\', ']', '^', '_', '`', 'a', 'b', 'c', 'd', 'e', 'f',\n",
              "       'g', 'h', 'i', 'j', 'k', 'l', 'm', 'n', 'o', 'p', 'q', 'r', 's',\n",
              "       't', 'u', 'v', 'w', 'x', 'y', 'z', '{', '|', '}', '~', '\\x7f',\n",
              "       '\\x8d', '\\xa0', '¡', '¦', '¨', '«', '°', '±', '²', '³', '´', 'µ',\n",
              "       '·', 'º', '¼', '¾', '¿', 'ß', 'à', 'á', 'â', 'ä', 'å', 'æ', 'è',\n",
              "       'ê', 'í', 'ï', 'ð', 'ñ', 'ò', 'ó', 'ô', 'õ', 'ö', '÷', 'ù', 'ú',\n",
              "       'û', 'ý', 'þ', 'ÿ', 'œ', '‚', '‡', '‹', '›'], dtype=object)"
            ]
          },
          "metadata": {},
          "execution_count": 20
        }
      ],
      "source": [
        "vectorizer.get_feature_names_out()"
      ]
    },
    {
      "cell_type": "code",
      "execution_count": 21,
      "metadata": {
        "id": "r_3-elntLiVG",
        "outputId": "e2a72763-1e4b-438e-abdd-1ad75dd5c00b",
        "colab": {
          "base_uri": "https://localhost:8080/"
        }
      },
      "outputs": [
        {
          "output_type": "execute_result",
          "data": {
            "text/plain": [
              "<1x129 sparse matrix of type '<class 'numpy.float64'>'\n",
              "\twith 6 stored elements in Compressed Sparse Row format>"
            ]
          },
          "metadata": {},
          "execution_count": 21
        }
      ],
      "source": [
        "first_document_vector=X[0]\n",
        "first_document_vector"
      ]
    },
    {
      "cell_type": "code",
      "execution_count": 22,
      "metadata": {
        "id": "O1QjG2lOLiVG",
        "outputId": "b2a20be2-b0cb-4b9e-8bd4-b496e82e91a1",
        "colab": {
          "base_uri": "https://localhost:8080/"
        }
      },
      "outputs": [
        {
          "output_type": "execute_result",
          "data": {
            "text/plain": [
              "matrix([[0.        ],\n",
              "        [0.        ],\n",
              "        [0.        ],\n",
              "        [0.        ],\n",
              "        [0.        ],\n",
              "        [0.        ],\n",
              "        [0.        ],\n",
              "        [0.        ],\n",
              "        [0.        ],\n",
              "        [0.        ],\n",
              "        [0.        ],\n",
              "        [0.        ],\n",
              "        [0.        ],\n",
              "        [0.        ],\n",
              "        [0.        ],\n",
              "        [0.        ],\n",
              "        [0.        ],\n",
              "        [0.        ],\n",
              "        [0.        ],\n",
              "        [0.        ],\n",
              "        [0.        ],\n",
              "        [0.        ],\n",
              "        [0.        ],\n",
              "        [0.        ],\n",
              "        [0.        ],\n",
              "        [0.        ],\n",
              "        [0.        ],\n",
              "        [0.        ],\n",
              "        [0.        ],\n",
              "        [0.        ],\n",
              "        [0.        ],\n",
              "        [0.        ],\n",
              "        [0.        ],\n",
              "        [0.        ],\n",
              "        [0.56669372],\n",
              "        [0.        ],\n",
              "        [0.59211926],\n",
              "        [0.        ],\n",
              "        [0.        ],\n",
              "        [0.        ],\n",
              "        [0.        ],\n",
              "        [0.        ],\n",
              "        [0.        ],\n",
              "        [0.        ],\n",
              "        [0.        ],\n",
              "        [0.        ],\n",
              "        [0.        ],\n",
              "        [0.        ],\n",
              "        [0.        ],\n",
              "        [0.        ],\n",
              "        [0.        ],\n",
              "        [0.        ],\n",
              "        [0.        ],\n",
              "        [0.        ],\n",
              "        [0.28534412],\n",
              "        [0.2210502 ],\n",
              "        [0.        ],\n",
              "        [0.        ],\n",
              "        [0.        ],\n",
              "        [0.        ],\n",
              "        [0.        ],\n",
              "        [0.29168957],\n",
              "        [0.        ],\n",
              "        [0.        ],\n",
              "        [0.        ],\n",
              "        [0.        ],\n",
              "        [0.        ],\n",
              "        [0.        ],\n",
              "        [0.        ],\n",
              "        [0.        ],\n",
              "        [0.        ],\n",
              "        [0.        ],\n",
              "        [0.        ],\n",
              "        [0.        ],\n",
              "        [0.        ],\n",
              "        [0.        ],\n",
              "        [0.33598474],\n",
              "        [0.        ],\n",
              "        [0.        ],\n",
              "        [0.        ],\n",
              "        [0.        ],\n",
              "        [0.        ],\n",
              "        [0.        ],\n",
              "        [0.        ],\n",
              "        [0.        ],\n",
              "        [0.        ],\n",
              "        [0.        ],\n",
              "        [0.        ],\n",
              "        [0.        ],\n",
              "        [0.        ],\n",
              "        [0.        ],\n",
              "        [0.        ],\n",
              "        [0.        ],\n",
              "        [0.        ],\n",
              "        [0.        ],\n",
              "        [0.        ],\n",
              "        [0.        ],\n",
              "        [0.        ],\n",
              "        [0.        ],\n",
              "        [0.        ],\n",
              "        [0.        ],\n",
              "        [0.        ],\n",
              "        [0.        ],\n",
              "        [0.        ],\n",
              "        [0.        ],\n",
              "        [0.        ],\n",
              "        [0.        ],\n",
              "        [0.        ],\n",
              "        [0.        ],\n",
              "        [0.        ],\n",
              "        [0.        ],\n",
              "        [0.        ],\n",
              "        [0.        ],\n",
              "        [0.        ],\n",
              "        [0.        ],\n",
              "        [0.        ],\n",
              "        [0.        ],\n",
              "        [0.        ],\n",
              "        [0.        ],\n",
              "        [0.        ],\n",
              "        [0.        ],\n",
              "        [0.        ],\n",
              "        [0.        ],\n",
              "        [0.        ],\n",
              "        [0.        ],\n",
              "        [0.        ],\n",
              "        [0.        ],\n",
              "        [0.        ],\n",
              "        [0.        ]])"
            ]
          },
          "metadata": {},
          "execution_count": 22
        }
      ],
      "source": [
        "first_document_vector.T.todense()"
      ]
    },
    {
      "cell_type": "code",
      "execution_count": 23,
      "metadata": {
        "id": "CzcZUalPLiVG",
        "outputId": "4021242a-1b34-4c2e-8b55-ffec45a11173",
        "colab": {
          "base_uri": "https://localhost:8080/",
          "height": 423
        }
      },
      "outputs": [
        {
          "output_type": "execute_result",
          "data": {
            "text/plain": [
              "      TF-IDF\n",
              "7   0.592119\n",
              "5   0.566694\n",
              "z   0.335985\n",
              "k   0.291690\n",
              "d   0.285344\n",
              "..       ...\n",
              "9   0.000000\n",
              "8   0.000000\n",
              "6   0.000000\n",
              "4   0.000000\n",
              "›   0.000000\n",
              "\n",
              "[129 rows x 1 columns]"
            ],
            "text/html": [
              "\n",
              "\n",
              "  <div id=\"df-7c97b83a-c255-4404-aada-f24d6fbdeace\">\n",
              "    <div class=\"colab-df-container\">\n",
              "      <div>\n",
              "<style scoped>\n",
              "    .dataframe tbody tr th:only-of-type {\n",
              "        vertical-align: middle;\n",
              "    }\n",
              "\n",
              "    .dataframe tbody tr th {\n",
              "        vertical-align: top;\n",
              "    }\n",
              "\n",
              "    .dataframe thead th {\n",
              "        text-align: right;\n",
              "    }\n",
              "</style>\n",
              "<table border=\"1\" class=\"dataframe\">\n",
              "  <thead>\n",
              "    <tr style=\"text-align: right;\">\n",
              "      <th></th>\n",
              "      <th>TF-IDF</th>\n",
              "    </tr>\n",
              "  </thead>\n",
              "  <tbody>\n",
              "    <tr>\n",
              "      <th>7</th>\n",
              "      <td>0.592119</td>\n",
              "    </tr>\n",
              "    <tr>\n",
              "      <th>5</th>\n",
              "      <td>0.566694</td>\n",
              "    </tr>\n",
              "    <tr>\n",
              "      <th>z</th>\n",
              "      <td>0.335985</td>\n",
              "    </tr>\n",
              "    <tr>\n",
              "      <th>k</th>\n",
              "      <td>0.291690</td>\n",
              "    </tr>\n",
              "    <tr>\n",
              "      <th>d</th>\n",
              "      <td>0.285344</td>\n",
              "    </tr>\n",
              "    <tr>\n",
              "      <th>...</th>\n",
              "      <td>...</td>\n",
              "    </tr>\n",
              "    <tr>\n",
              "      <th>9</th>\n",
              "      <td>0.000000</td>\n",
              "    </tr>\n",
              "    <tr>\n",
              "      <th>8</th>\n",
              "      <td>0.000000</td>\n",
              "    </tr>\n",
              "    <tr>\n",
              "      <th>6</th>\n",
              "      <td>0.000000</td>\n",
              "    </tr>\n",
              "    <tr>\n",
              "      <th>4</th>\n",
              "      <td>0.000000</td>\n",
              "    </tr>\n",
              "    <tr>\n",
              "      <th>›</th>\n",
              "      <td>0.000000</td>\n",
              "    </tr>\n",
              "  </tbody>\n",
              "</table>\n",
              "<p>129 rows × 1 columns</p>\n",
              "</div>\n",
              "      <button class=\"colab-df-convert\" onclick=\"convertToInteractive('df-7c97b83a-c255-4404-aada-f24d6fbdeace')\"\n",
              "              title=\"Convert this dataframe to an interactive table.\"\n",
              "              style=\"display:none;\">\n",
              "\n",
              "  <svg xmlns=\"http://www.w3.org/2000/svg\" height=\"24px\"viewBox=\"0 0 24 24\"\n",
              "       width=\"24px\">\n",
              "    <path d=\"M0 0h24v24H0V0z\" fill=\"none\"/>\n",
              "    <path d=\"M18.56 5.44l.94 2.06.94-2.06 2.06-.94-2.06-.94-.94-2.06-.94 2.06-2.06.94zm-11 1L8.5 8.5l.94-2.06 2.06-.94-2.06-.94L8.5 2.5l-.94 2.06-2.06.94zm10 10l.94 2.06.94-2.06 2.06-.94-2.06-.94-.94-2.06-.94 2.06-2.06.94z\"/><path d=\"M17.41 7.96l-1.37-1.37c-.4-.4-.92-.59-1.43-.59-.52 0-1.04.2-1.43.59L10.3 9.45l-7.72 7.72c-.78.78-.78 2.05 0 2.83L4 21.41c.39.39.9.59 1.41.59.51 0 1.02-.2 1.41-.59l7.78-7.78 2.81-2.81c.8-.78.8-2.07 0-2.86zM5.41 20L4 18.59l7.72-7.72 1.47 1.35L5.41 20z\"/>\n",
              "  </svg>\n",
              "      </button>\n",
              "\n",
              "\n",
              "\n",
              "    <div id=\"df-21cd7830-131a-485c-b2dd-f774558d7cd4\">\n",
              "      <button class=\"colab-df-quickchart\" onclick=\"quickchart('df-21cd7830-131a-485c-b2dd-f774558d7cd4')\"\n",
              "              title=\"Suggest charts.\"\n",
              "              style=\"display:none;\">\n",
              "\n",
              "<svg xmlns=\"http://www.w3.org/2000/svg\" height=\"24px\"viewBox=\"0 0 24 24\"\n",
              "     width=\"24px\">\n",
              "    <g>\n",
              "        <path d=\"M19 3H5c-1.1 0-2 .9-2 2v14c0 1.1.9 2 2 2h14c1.1 0 2-.9 2-2V5c0-1.1-.9-2-2-2zM9 17H7v-7h2v7zm4 0h-2V7h2v10zm4 0h-2v-4h2v4z\"/>\n",
              "    </g>\n",
              "</svg>\n",
              "      </button>\n",
              "    </div>\n",
              "\n",
              "<style>\n",
              "  .colab-df-quickchart {\n",
              "    background-color: #E8F0FE;\n",
              "    border: none;\n",
              "    border-radius: 50%;\n",
              "    cursor: pointer;\n",
              "    display: none;\n",
              "    fill: #1967D2;\n",
              "    height: 32px;\n",
              "    padding: 0 0 0 0;\n",
              "    width: 32px;\n",
              "  }\n",
              "\n",
              "  .colab-df-quickchart:hover {\n",
              "    background-color: #E2EBFA;\n",
              "    box-shadow: 0px 1px 2px rgba(60, 64, 67, 0.3), 0px 1px 3px 1px rgba(60, 64, 67, 0.15);\n",
              "    fill: #174EA6;\n",
              "  }\n",
              "\n",
              "  [theme=dark] .colab-df-quickchart {\n",
              "    background-color: #3B4455;\n",
              "    fill: #D2E3FC;\n",
              "  }\n",
              "\n",
              "  [theme=dark] .colab-df-quickchart:hover {\n",
              "    background-color: #434B5C;\n",
              "    box-shadow: 0px 1px 3px 1px rgba(0, 0, 0, 0.15);\n",
              "    filter: drop-shadow(0px 1px 2px rgba(0, 0, 0, 0.3));\n",
              "    fill: #FFFFFF;\n",
              "  }\n",
              "</style>\n",
              "\n",
              "    <script>\n",
              "      async function quickchart(key) {\n",
              "        const containerElement = document.querySelector('#' + key);\n",
              "        const charts = await google.colab.kernel.invokeFunction(\n",
              "            'suggestCharts', [key], {});\n",
              "      }\n",
              "    </script>\n",
              "\n",
              "      <script>\n",
              "\n",
              "function displayQuickchartButton(domScope) {\n",
              "  let quickchartButtonEl =\n",
              "    domScope.querySelector('#df-21cd7830-131a-485c-b2dd-f774558d7cd4 button.colab-df-quickchart');\n",
              "  quickchartButtonEl.style.display =\n",
              "    google.colab.kernel.accessAllowed ? 'block' : 'none';\n",
              "}\n",
              "\n",
              "        displayQuickchartButton(document);\n",
              "      </script>\n",
              "      <style>\n",
              "    .colab-df-container {\n",
              "      display:flex;\n",
              "      flex-wrap:wrap;\n",
              "      gap: 12px;\n",
              "    }\n",
              "\n",
              "    .colab-df-convert {\n",
              "      background-color: #E8F0FE;\n",
              "      border: none;\n",
              "      border-radius: 50%;\n",
              "      cursor: pointer;\n",
              "      display: none;\n",
              "      fill: #1967D2;\n",
              "      height: 32px;\n",
              "      padding: 0 0 0 0;\n",
              "      width: 32px;\n",
              "    }\n",
              "\n",
              "    .colab-df-convert:hover {\n",
              "      background-color: #E2EBFA;\n",
              "      box-shadow: 0px 1px 2px rgba(60, 64, 67, 0.3), 0px 1px 3px 1px rgba(60, 64, 67, 0.15);\n",
              "      fill: #174EA6;\n",
              "    }\n",
              "\n",
              "    [theme=dark] .colab-df-convert {\n",
              "      background-color: #3B4455;\n",
              "      fill: #D2E3FC;\n",
              "    }\n",
              "\n",
              "    [theme=dark] .colab-df-convert:hover {\n",
              "      background-color: #434B5C;\n",
              "      box-shadow: 0px 1px 3px 1px rgba(0, 0, 0, 0.15);\n",
              "      filter: drop-shadow(0px 1px 2px rgba(0, 0, 0, 0.3));\n",
              "      fill: #FFFFFF;\n",
              "    }\n",
              "  </style>\n",
              "\n",
              "      <script>\n",
              "        const buttonEl =\n",
              "          document.querySelector('#df-7c97b83a-c255-4404-aada-f24d6fbdeace button.colab-df-convert');\n",
              "        buttonEl.style.display =\n",
              "          google.colab.kernel.accessAllowed ? 'block' : 'none';\n",
              "\n",
              "        async function convertToInteractive(key) {\n",
              "          const element = document.querySelector('#df-7c97b83a-c255-4404-aada-f24d6fbdeace');\n",
              "          const dataTable =\n",
              "            await google.colab.kernel.invokeFunction('convertToInteractive',\n",
              "                                                     [key], {});\n",
              "          if (!dataTable) return;\n",
              "\n",
              "          const docLinkHtml = 'Like what you see? Visit the ' +\n",
              "            '<a target=\"_blank\" href=https://colab.research.google.com/notebooks/data_table.ipynb>data table notebook</a>'\n",
              "            + ' to learn more about interactive tables.';\n",
              "          element.innerHTML = '';\n",
              "          dataTable['output_type'] = 'display_data';\n",
              "          await google.colab.output.renderOutput(dataTable, element);\n",
              "          const docLink = document.createElement('div');\n",
              "          docLink.innerHTML = docLinkHtml;\n",
              "          element.appendChild(docLink);\n",
              "        }\n",
              "      </script>\n",
              "    </div>\n",
              "  </div>\n"
            ]
          },
          "metadata": {},
          "execution_count": 23
        }
      ],
      "source": [
        "df=pd.DataFrame(first_document_vector.T.todense(),index=vectorizer.get_feature_names_out(),columns=['TF-IDF'])\n",
        "df.sort_values(by=['TF-IDF'],ascending=False)"
      ]
    },
    {
      "cell_type": "code",
      "execution_count": 23,
      "metadata": {
        "id": "i_xxfSw-LiVH"
      },
      "outputs": [],
      "source": []
    },
    {
      "cell_type": "markdown",
      "metadata": {
        "id": "ofbdKsD8LiVH"
      },
      "source": [
        "#### split data into train & test\n",
        "    train---> To learn the relationship within data,\n",
        "    test-->  To do predictions, and this testing data will be unseen to my model"
      ]
    },
    {
      "cell_type": "code",
      "execution_count": 24,
      "metadata": {
        "id": "ZOpEi56_LiVH"
      },
      "outputs": [],
      "source": [
        "from sklearn.model_selection import train_test_split"
      ]
    },
    {
      "cell_type": "code",
      "execution_count": 25,
      "metadata": {
        "id": "x7Wt1yGGLiVH"
      },
      "outputs": [],
      "source": [
        "X_train, X_test, y_train, y_test=train_test_split(X,y,test_size=0.2)"
      ]
    },
    {
      "cell_type": "code",
      "execution_count": 26,
      "metadata": {
        "id": "xtKrzEydLiVI",
        "outputId": "51da0f1b-a7e2-425a-9e2a-27d69242aeb6",
        "colab": {
          "base_uri": "https://localhost:8080/"
        }
      },
      "outputs": [
        {
          "output_type": "execute_result",
          "data": {
            "text/plain": [
              "(535711, 129)"
            ]
          },
          "metadata": {},
          "execution_count": 26
        }
      ],
      "source": [
        "X_train.shape"
      ]
    },
    {
      "cell_type": "code",
      "execution_count": 27,
      "metadata": {
        "id": "q2d9HV_cLiVI"
      },
      "outputs": [],
      "source": [
        "from sklearn.linear_model import LogisticRegression"
      ]
    },
    {
      "cell_type": "code",
      "execution_count": 27,
      "metadata": {
        "id": "WIXDn5ioLiVO"
      },
      "outputs": [],
      "source": []
    },
    {
      "cell_type": "markdown",
      "metadata": {
        "id": "Yq3Js72iLiVO"
      },
      "source": [
        "#### Apply Logistic on data as use-cas is Classification"
      ]
    },
    {
      "cell_type": "code",
      "execution_count": 28,
      "metadata": {
        "id": "y2vOE9e0LiVP"
      },
      "outputs": [],
      "source": [
        "clf=LogisticRegression(random_state=0,multi_class='multinomial')"
      ]
    },
    {
      "cell_type": "code",
      "execution_count": 29,
      "metadata": {
        "id": "HI9rshOOLiVP",
        "outputId": "a4f0c93a-8300-425f-ad36-592d1116ef8a",
        "colab": {
          "base_uri": "https://localhost:8080/",
          "height": 74
        }
      },
      "outputs": [
        {
          "output_type": "execute_result",
          "data": {
            "text/plain": [
              "LogisticRegression(multi_class='multinomial', random_state=0)"
            ],
            "text/html": [
              "<style>#sk-container-id-1 {color: black;background-color: white;}#sk-container-id-1 pre{padding: 0;}#sk-container-id-1 div.sk-toggleable {background-color: white;}#sk-container-id-1 label.sk-toggleable__label {cursor: pointer;display: block;width: 100%;margin-bottom: 0;padding: 0.3em;box-sizing: border-box;text-align: center;}#sk-container-id-1 label.sk-toggleable__label-arrow:before {content: \"▸\";float: left;margin-right: 0.25em;color: #696969;}#sk-container-id-1 label.sk-toggleable__label-arrow:hover:before {color: black;}#sk-container-id-1 div.sk-estimator:hover label.sk-toggleable__label-arrow:before {color: black;}#sk-container-id-1 div.sk-toggleable__content {max-height: 0;max-width: 0;overflow: hidden;text-align: left;background-color: #f0f8ff;}#sk-container-id-1 div.sk-toggleable__content pre {margin: 0.2em;color: black;border-radius: 0.25em;background-color: #f0f8ff;}#sk-container-id-1 input.sk-toggleable__control:checked~div.sk-toggleable__content {max-height: 200px;max-width: 100%;overflow: auto;}#sk-container-id-1 input.sk-toggleable__control:checked~label.sk-toggleable__label-arrow:before {content: \"▾\";}#sk-container-id-1 div.sk-estimator input.sk-toggleable__control:checked~label.sk-toggleable__label {background-color: #d4ebff;}#sk-container-id-1 div.sk-label input.sk-toggleable__control:checked~label.sk-toggleable__label {background-color: #d4ebff;}#sk-container-id-1 input.sk-hidden--visually {border: 0;clip: rect(1px 1px 1px 1px);clip: rect(1px, 1px, 1px, 1px);height: 1px;margin: -1px;overflow: hidden;padding: 0;position: absolute;width: 1px;}#sk-container-id-1 div.sk-estimator {font-family: monospace;background-color: #f0f8ff;border: 1px dotted black;border-radius: 0.25em;box-sizing: border-box;margin-bottom: 0.5em;}#sk-container-id-1 div.sk-estimator:hover {background-color: #d4ebff;}#sk-container-id-1 div.sk-parallel-item::after {content: \"\";width: 100%;border-bottom: 1px solid gray;flex-grow: 1;}#sk-container-id-1 div.sk-label:hover label.sk-toggleable__label {background-color: #d4ebff;}#sk-container-id-1 div.sk-serial::before {content: \"\";position: absolute;border-left: 1px solid gray;box-sizing: border-box;top: 0;bottom: 0;left: 50%;z-index: 0;}#sk-container-id-1 div.sk-serial {display: flex;flex-direction: column;align-items: center;background-color: white;padding-right: 0.2em;padding-left: 0.2em;position: relative;}#sk-container-id-1 div.sk-item {position: relative;z-index: 1;}#sk-container-id-1 div.sk-parallel {display: flex;align-items: stretch;justify-content: center;background-color: white;position: relative;}#sk-container-id-1 div.sk-item::before, #sk-container-id-1 div.sk-parallel-item::before {content: \"\";position: absolute;border-left: 1px solid gray;box-sizing: border-box;top: 0;bottom: 0;left: 50%;z-index: -1;}#sk-container-id-1 div.sk-parallel-item {display: flex;flex-direction: column;z-index: 1;position: relative;background-color: white;}#sk-container-id-1 div.sk-parallel-item:first-child::after {align-self: flex-end;width: 50%;}#sk-container-id-1 div.sk-parallel-item:last-child::after {align-self: flex-start;width: 50%;}#sk-container-id-1 div.sk-parallel-item:only-child::after {width: 0;}#sk-container-id-1 div.sk-dashed-wrapped {border: 1px dashed gray;margin: 0 0.4em 0.5em 0.4em;box-sizing: border-box;padding-bottom: 0.4em;background-color: white;}#sk-container-id-1 div.sk-label label {font-family: monospace;font-weight: bold;display: inline-block;line-height: 1.2em;}#sk-container-id-1 div.sk-label-container {text-align: center;}#sk-container-id-1 div.sk-container {/* jupyter's `normalize.less` sets `[hidden] { display: none; }` but bootstrap.min.css set `[hidden] { display: none !important; }` so we also need the `!important` here to be able to override the default hidden behavior on the sphinx rendered scikit-learn.org. See: https://github.com/scikit-learn/scikit-learn/issues/21755 */display: inline-block !important;position: relative;}#sk-container-id-1 div.sk-text-repr-fallback {display: none;}</style><div id=\"sk-container-id-1\" class=\"sk-top-container\"><div class=\"sk-text-repr-fallback\"><pre>LogisticRegression(multi_class=&#x27;multinomial&#x27;, random_state=0)</pre><b>In a Jupyter environment, please rerun this cell to show the HTML representation or trust the notebook. <br />On GitHub, the HTML representation is unable to render, please try loading this page with nbviewer.org.</b></div><div class=\"sk-container\" hidden><div class=\"sk-item\"><div class=\"sk-estimator sk-toggleable\"><input class=\"sk-toggleable__control sk-hidden--visually\" id=\"sk-estimator-id-1\" type=\"checkbox\" checked><label for=\"sk-estimator-id-1\" class=\"sk-toggleable__label sk-toggleable__label-arrow\">LogisticRegression</label><div class=\"sk-toggleable__content\"><pre>LogisticRegression(multi_class=&#x27;multinomial&#x27;, random_state=0)</pre></div></div></div></div></div>"
            ]
          },
          "metadata": {},
          "execution_count": 29
        }
      ],
      "source": [
        "clf.fit(X_train,y_train)"
      ]
    },
    {
      "cell_type": "code",
      "execution_count": 29,
      "metadata": {
        "id": "I-wWHQ1LLiVP"
      },
      "outputs": [],
      "source": []
    },
    {
      "cell_type": "markdown",
      "metadata": {
        "id": "FhAzFocALiVQ"
      },
      "source": [
        "#### doing prediction for specific custom data"
      ]
    },
    {
      "cell_type": "code",
      "execution_count": 31,
      "metadata": {
        "id": "3zL8-le8LiVQ",
        "outputId": "c9678080-7f48-428d-9d44-2a6590c50c1e",
        "colab": {
          "base_uri": "https://localhost:8080/"
        }
      },
      "outputs": [
        {
          "output_type": "execute_result",
          "data": {
            "text/plain": [
              "array([2])"
            ]
          },
          "metadata": {},
          "execution_count": 31
        }
      ],
      "source": [
        "dt=np.array(['%@Hi5AKM2dfn'])\n",
        "pred=vectorizer.transform(dt)\n",
        "clf.predict(pred)"
      ]
    },
    {
      "cell_type": "code",
      "execution_count": 31,
      "metadata": {
        "id": "DR92ze0ULiVQ"
      },
      "outputs": [],
      "source": []
    },
    {
      "cell_type": "markdown",
      "metadata": {
        "id": "YTAbu7B6LiVQ"
      },
      "source": [
        "#### doing prediction on X-Test data"
      ]
    },
    {
      "cell_type": "code",
      "execution_count": 33,
      "metadata": {
        "id": "_M-Fl_NhLiVR",
        "outputId": "27a43d76-bdb0-4903-8550-ba8b717c5119",
        "colab": {
          "base_uri": "https://localhost:8080/"
        }
      },
      "outputs": [
        {
          "output_type": "execute_result",
          "data": {
            "text/plain": [
              "array([1, 0, 1, ..., 1, 1, 1])"
            ]
          },
          "metadata": {},
          "execution_count": 33
        }
      ],
      "source": [
        "y_pred=clf.predict(X_test)\n",
        "y_pred"
      ]
    },
    {
      "cell_type": "code",
      "execution_count": 33,
      "metadata": {
        "id": "5gVPpMJzLiVR"
      },
      "outputs": [],
      "source": []
    },
    {
      "cell_type": "markdown",
      "metadata": {
        "id": "i_nnaZ-4LiVR"
      },
      "source": [
        "#### check Accuracy of your model using confusion_matrix,accuracy_score"
      ]
    },
    {
      "cell_type": "code",
      "execution_count": 34,
      "metadata": {
        "id": "JEjYDTvHLiVR"
      },
      "outputs": [],
      "source": [
        "from sklearn.metrics import confusion_matrix,accuracy_score"
      ]
    },
    {
      "cell_type": "code",
      "execution_count": 35,
      "metadata": {
        "id": "7VfxLoKpLiVS",
        "outputId": "7bd1e05b-35c9-484f-f853-f27fbde7022b",
        "colab": {
          "base_uri": "https://localhost:8080/"
        }
      },
      "outputs": [
        {
          "output_type": "stream",
          "name": "stdout",
          "text": [
            "[[ 5151 12741    14]\n",
            " [ 3801 93002  2554]\n",
            " [   31  5169 11465]]\n",
            "0.8184845588674512\n"
          ]
        }
      ],
      "source": [
        "cm=confusion_matrix(y_test,y_pred)\n",
        "print(cm)\n",
        "print(accuracy_score(y_test,y_pred))"
      ]
    },
    {
      "cell_type": "code",
      "execution_count": 35,
      "metadata": {
        "id": "fmyhM1gqLiVS"
      },
      "outputs": [],
      "source": []
    },
    {
      "cell_type": "markdown",
      "metadata": {
        "id": "rCT5bRKdLiVS"
      },
      "source": [
        "##### create report of your model"
      ]
    },
    {
      "cell_type": "code",
      "execution_count": 36,
      "metadata": {
        "id": "LIrThiddLiVS",
        "outputId": "0ec52736-31ef-42c5-d0fa-364d8c336fdd",
        "colab": {
          "base_uri": "https://localhost:8080/"
        }
      },
      "outputs": [
        {
          "output_type": "stream",
          "name": "stdout",
          "text": [
            "              precision    recall  f1-score   support\n",
            "\n",
            "           0       0.57      0.29      0.38     17906\n",
            "           1       0.84      0.94      0.88     99357\n",
            "           2       0.82      0.69      0.75     16665\n",
            "\n",
            "    accuracy                           0.82    133928\n",
            "   macro avg       0.74      0.64      0.67    133928\n",
            "weighted avg       0.80      0.82      0.80    133928\n",
            "\n"
          ]
        }
      ],
      "source": [
        "from sklearn.metrics import classification_report\n",
        "print(classification_report(y_test,y_pred))"
      ]
    },
    {
      "cell_type": "code",
      "execution_count": 37,
      "metadata": {
        "id": "KlQahvz4LiVT",
        "outputId": "c8383d34-78a6-4ada-f62f-27c4c3adc4aa",
        "colab": {
          "base_uri": "https://localhost:8080/"
        }
      },
      "outputs": [
        {
          "output_type": "execute_result",
          "data": {
            "text/plain": [
              "array([1, 0, 1, ..., 1, 1, 1])"
            ]
          },
          "metadata": {},
          "execution_count": 37
        }
      ],
      "source": [
        "from joblib import Parallel, delayed\n",
        "import joblib\n",
        "\n",
        "\n",
        "# Save the model as a pickle in a file\n",
        "joblib.dump(clf, 'LR.pkl')\n",
        "\n",
        "# Load the model from the file\n",
        "knn_from_joblib = joblib.load('LR.pkl')\n",
        "\n",
        "# Use the loaded model to make predictions\n",
        "knn_from_joblib.predict(X_test)"
      ]
    },
    {
      "cell_type": "code",
      "execution_count": 40,
      "metadata": {
        "id": "pk0UUK3RLiVT"
      },
      "outputs": [],
      "source": []
    }
  ],
  "metadata": {
    "kernelspec": {
      "display_name": "Python 3",
      "language": "python",
      "name": "python3"
    },
    "language_info": {
      "codemirror_mode": {
        "name": "ipython",
        "version": 3
      },
      "file_extension": ".py",
      "mimetype": "text/x-python",
      "name": "python",
      "nbconvert_exporter": "python",
      "pygments_lexer": "ipython3",
      "version": "3.7.4"
    },
    "colab": {
      "provenance": []
    }
  },
  "nbformat": 4,
  "nbformat_minor": 0
}